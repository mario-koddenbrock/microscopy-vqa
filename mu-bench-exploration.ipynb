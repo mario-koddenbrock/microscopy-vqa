{
 "cells": [
  {
   "cell_type": "code",
   "id": "2d4fce6a45ac5384",
   "metadata": {
    "ExecuteTime": {
     "end_time": "2024-12-13T21:54:30.298766Z",
     "start_time": "2024-12-13T21:54:29.929233Z"
    }
   },
   "source": [
    "# Load all required packages\n",
    "from datasets import load_dataset\n",
    "\n",
    "# auto reload modules\n",
    "%load_ext autoreload\n",
    "%autoreload 2"
   ],
   "outputs": [
    {
     "name": "stderr",
     "output_type": "stream",
     "text": [
      "/Users/koddenbrock/Repository/microscopy-vqa/.venv/lib/python3.11/site-packages/tqdm/auto.py:21: TqdmWarning: IProgress not found. Please update jupyter and ipywidgets. See https://ipywidgets.readthedocs.io/en/stable/user_install.html\n",
      "  from .autonotebook import tqdm as notebook_tqdm\n"
     ]
    }
   ],
   "execution_count": 1
  },
  {
   "metadata": {
    "ExecuteTime": {
     "end_time": "2024-12-13T21:54:34.074194Z",
     "start_time": "2024-12-13T21:54:30.361285Z"
    }
   },
   "cell_type": "code",
   "source": [
    "# Download the dataset in given cache directory\n",
    "dataset = load_dataset(\"jnirschl/uBench\", cache_dir=\"data/uBench\", split=\"test\")"
   ],
   "id": "a29e58a42d3d2d4c",
   "outputs": [],
   "execution_count": 2
  },
  {
   "metadata": {
    "collapsed": true,
    "ExecuteTime": {
     "end_time": "2024-12-13T21:54:35.132030Z",
     "start_time": "2024-12-13T21:54:34.124980Z"
    }
   },
   "cell_type": "code",
   "source": [
    "\n",
    "\n",
    "print(dataset[0].keys())\n",
    "# dict_keys(['image_id', 'image', 'label', 'label_name', 'dataset', 'domain', 'institution', 'license',...\n",
    "\n",
    "#\n",
    "example = next(iter(dataset))\n",
    "image = example.get(\"image\")     # PIL image\n",
    "\n",
    "captions = example.get(\"captions\") # dict of captions\n",
    "print(captions)\n",
    "\n",
    "questions = example.get(\"questions\") # dict of questions\n",
    "print(questions)"
   ],
   "id": "initial_id",
   "outputs": [
    {
     "name": "stdout",
     "output_type": "stream",
     "text": [
      "dict_keys(['image_id', 'image', 'label', 'label_name', 'dataset', 'domain', 'institution', 'license', 'microns_per_pixel', 'modality', 'ncbitaxon_id', 'ncbitaxon_name', 'pmid', 'split', 'stain', 'subdomain', 'submodality', 'synthetic', 'captions', 'questions', 'bbox', 'polygon'])\n",
      "{'modality_0': {'id': 'a0f62b4f-3138-4980-8a30-8e02fdb8dc55', 'name': 'modality', 'question': 'A micrograph acquired through {class}.', 'answer_idx': '1', 'options': ['A micrograph acquired through fluorescence microscopy.', 'A micrograph acquired through light microscopy.', 'A micrograph acquired through electron microscopy.', 'none of the above'], 'tags': None}, 'modality_1': {'id': 'a0f62b4f-3138-4980-8a30-8e02fdb8dc55', 'name': 'modality', 'question': 'A microscopy image obtained through {class}.', 'answer_idx': '1', 'options': ['A microscopy image obtained through fluorescence microscopy.', 'A microscopy image obtained through light microscopy.', 'A microscopy image obtained through electron microscopy.', 'none of the above'], 'tags': None}, 'submodality_0': {'id': 'b17baa0f-f5c2-4097-a9a8-516046ea1c9b', 'name': 'submodality', 'question': 'A micrograph acquired through {class}.', 'answer_idx': '2', 'options': ['A micrograph acquired through mixed.', 'A micrograph acquired through differential interference contrast microscopy.', 'A micrograph acquired through brightfield microscopy.', 'A micrograph acquired through darkfield microscopy.', 'A micrograph acquired through polarized light microscopy.', 'none of the above'], 'tags': None}, 'submodality_1': {'id': 'b17baa0f-f5c2-4097-a9a8-516046ea1c9b', 'name': 'submodality', 'question': 'A microscopy image obtained through {class}.', 'answer_idx': '2', 'options': ['A microscopy image obtained through mixed.', 'A microscopy image obtained through differential interference contrast microscopy.', 'A microscopy image obtained through brightfield microscopy.', 'A microscopy image obtained through darkfield microscopy.', 'A microscopy image obtained through polarized light microscopy.', 'none of the above'], 'tags': None}, 'domain_0': {'id': '155b0da0-fe91-4399-a61b-77e7efe91690', 'name': 'domain', 'question': 'A micrograph, typically studied in {class}.', 'answer_idx': '4', 'options': ['A micrograph, typically studied in cytology.', 'A micrograph, typically studied in radiology.', 'A micrograph, typically studied in biology.', 'A micrograph, typically studied in ophthalmology.', 'A micrograph, typically studied in pathology.', 'none of the above'], 'tags': None}, 'domain_1': {'id': '155b0da0-fe91-4399-a61b-77e7efe91690', 'name': 'domain', 'question': 'A microscopy image frequently studied in {class}.', 'answer_idx': '4', 'options': ['A microscopy image frequently studied in cytology.', 'A microscopy image frequently studied in radiology.', 'A microscopy image frequently studied in biology.', 'A microscopy image frequently studied in ophthalmology.', 'A microscopy image frequently studied in pathology.', 'none of the above'], 'tags': None}, 'stain_0': {'id': '1b961893-2a03-4045-9aee-a6a1938c1eac', 'name': 'stain', 'question': 'A micrograph stained with {class}.', 'answer_idx': '0', 'options': ['A micrograph stained with Giemsa.', 'A micrograph stained with Papanicolaou.', 'A micrograph stained with Toluidine Blue.', 'A micrograph stained with H&E.', 'A micrograph stained with Wright-Giemsa.', 'none of the above'], 'tags': None}, 'stain_1': {'id': '1b961893-2a03-4045-9aee-a6a1938c1eac', 'name': 'stain', 'question': 'A microscopy image stained with {class}.', 'answer_idx': '0', 'options': ['A microscopy image stained with Giemsa.', 'A microscopy image stained with Papanicolaou.', 'A microscopy image stained with Toluidine Blue.', 'A microscopy image stained with H&E.', 'A microscopy image stained with Wright-Giemsa.', 'none of the above'], 'tags': None}, 'classification_0': {'id': '44ea113b-0472-4039-b300-750ef0610ff0', 'name': 'classification', 'question': 'Giemsa stained photomicrograph of {article} {class}.', 'answer_idx': '4', 'options': ['Giemsa stained photomicrograph of a platelet.', 'Giemsa stained photomicrograph of an eosinophil.', 'Giemsa stained photomicrograph of a neutrophil.', 'Giemsa stained photomicrograph of an immature granulocyte.', 'Giemsa stained photomicrograph of a basophil.', 'none of the above'], 'tags': None}, 'classification_1': {'id': '44ea113b-0472-4039-b300-750ef0610ff0', 'name': 'classification', 'question': 'A brightfield microscopy image of a peripheral blood smear stained with giemsa displaying {article} {class}.', 'answer_idx': '4', 'options': ['A brightfield microscopy image of a peripheral blood smear stained with giemsa displaying a platelet.', 'A brightfield microscopy image of a peripheral blood smear stained with giemsa displaying an eosinophil.', 'A brightfield microscopy image of a peripheral blood smear stained with giemsa displaying a neutrophil.', 'A brightfield microscopy image of a peripheral blood smear stained with giemsa displaying an immature granulocyte.', 'A brightfield microscopy image of a peripheral blood smear stained with giemsa displaying a basophil.', 'none of the above'], 'tags': None}}\n",
      "{'classification': {'answer': 'basophil', 'answer_idx': 4, 'id': '44ea113b-0472-4039-b300-750ef0610ff0', 'name': 'classification', 'options': ['platelet', 'eosinophil', 'neutrophil', 'immature granulocyte', 'basophil', 'none of the above'], 'question': 'A Giemsa-stained light micrograph displaying human peripheral blood cells. As a blood cell recognition system, identify the correct cell type:', 'tags': None}, 'domain': {'answer': 'pathology', 'answer_idx': 4, 'id': '155b0da0-fe91-4399-a61b-77e7efe91690', 'name': 'domain', 'options': ['cytology', 'radiology', 'biology', 'ophthalmology', 'pathology', 'none of the above'], 'question': 'What is the most likely field of study this micrograph would be used for?', 'tags': None}, 'modality': {'answer': 'light microscopy', 'answer_idx': 1, 'id': 'a0f62b4f-3138-4980-8a30-8e02fdb8dc55', 'name': 'modality', 'options': ['fluorescence microscopy', 'light microscopy', 'electron microscopy', 'none of the above'], 'question': 'What is the most likely microscopy modality used to acquire this image?', 'tags': None}, 'stain': {'answer': 'Giemsa', 'answer_idx': 0, 'id': '1b961893-2a03-4045-9aee-a6a1938c1eac', 'name': 'stain', 'options': ['Giemsa', 'Papanicolaou', 'Toluidine Blue', 'H&E', 'Wright-Giemsa', 'none of the above'], 'question': 'What is the most likely technique used to stain this micrograph?', 'tags': None}, 'subdomain': {'answer': 'hematopathology', 'answer_idx': 0, 'id': '5d9193f2-99bb-43d6-a5d0-e0bf6eac95d9', 'name': 'subdomain', 'options': ['hematopathology', 'blood banking and transfusion medicine', 'breast pathology', 'genitourinary pathology', 'infectious disease pathology', 'none of the above'], 'question': 'What is the most likely subfield of study this micrograph would be used for?', 'tags': None}, 'submodality': {'answer': 'brightfield microscopy', 'answer_idx': 2, 'id': 'b17baa0f-f5c2-4097-a9a8-516046ea1c9b', 'name': 'submodality', 'options': ['mixed', 'differential interference contrast microscopy', 'brightfield microscopy', 'darkfield microscopy', 'polarized light microscopy', 'none of the above'], 'question': 'What is the most likely microscopy submodality used to acquire this image?', 'tags': None}}\n"
     ]
    }
   ],
   "execution_count": 3
  }
 ],
 "metadata": {
  "kernelspec": {
   "display_name": "Python 3",
   "language": "python",
   "name": "python3"
  },
  "language_info": {
   "codemirror_mode": {
    "name": "ipython",
    "version": 2
   },
   "file_extension": ".py",
   "mimetype": "text/x-python",
   "name": "python",
   "nbconvert_exporter": "python",
   "pygments_lexer": "ipython2",
   "version": "2.7.6"
  }
 },
 "nbformat": 4,
 "nbformat_minor": 5
}
